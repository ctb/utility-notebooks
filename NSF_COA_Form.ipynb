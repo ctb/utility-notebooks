{
 "cells": [
  {
   "cell_type": "markdown",
   "metadata": {},
   "source": [
    "## Filling out the damn NSF Conflict of interest form ##"
   ]
  },
  {
   "cell_type": "markdown",
   "metadata": {},
   "source": [
    "The NSF has a form for identifying potential conflicts of interest for the very laudable reason of not having your best friend and collaborator review you grant proposal (or more specifically, not having your competitor's best friend and collaborator review theirs and your proposal on the same panel). \n",
    "They take it very seriously in the best possible way, and this is one of many examples of government working hard and succeeding at doing the right thing at low cost.\n",
    "Unfortunately the form requires co-authors and their affiliations on all publications for the last 4 years, which for me and other people is a bit of a pain.\n",
    "As a person on a number of genome papers, I (currently, who knows about the future) have a lot of co-authors. Others can have fewer co-authors per paper, but may be more prolific in publication. - My worst case example here is Botanist [Hans Lambers](https://scholar.google.com/citations?hl=en&user=up0v5soAAAAJ&view_op=list_works&sortby=pubdate), But I am also not sure about physicists and chemists, or others outside of pubmed."
   ]
  },
  {
   "cell_type": "markdown",
   "metadata": {},
   "source": [
    "### My aim here is to automate the filling out of this form. ### \n",
    "Most researchers have no trouble finding the last 4 years of references, or even getting all of the co-authors with a little screwing around in excel, but getting all of the affliations for those people requires getting out of the reference manager software, and cutting and pasting from the pdfs.\n",
    "Pubmed does keep affliations for all authors, so I am going to try that first.\n",
    "Other options include Thomson Reuters Web of Science which also has affliation information that can be scraped.\n",
    "\n",
    "_Possible inputs to this script could be:_ \n",
    "\n",
    "1. a list of pubmed id's  CAN BE DOWNLOADED FROM NCBI USING THE **send to** button, which gives a file and options for xml, pmids ect. - WORKS GREAT!\n",
    "2. a link to a NCBI biography - e.g. https://www.ncbi.nlm.nih.gov/myncbi/1hQ1zEK_eulQ8/bibliography/public/  THIS DOESN\"T WORK BECAUSE OF PRETTY FORMATTING  \n",
    "3. a link to a google scholar profile - for example: https://scholar.google.com/citations?user=EPC9uVAAAAAJ&hl=en THIS JUST DOESN'T WORK - NO AFFILIATIONS\n",
    "\n",
    "And as of right now the NSF form in question is [here](https://www.nsf.gov/bfa/dias/policy/coa/coa_template.xlsx) and the instructions are [here](https://www.nsf.gov/bfa/dias/policy/coa/faqs_coatemplatemay18.pdf)."
   ]
  },
  {
   "cell_type": "markdown",
   "metadata": {},
   "source": [
    "# Instructions for using pubmed to get a list of pmids\n",
    "1. go to pubmed and search for your name in this manner  \n",
    "__Brown SJ[Author] AND Kansas [affiliation] AND ( \"2015/05/31\"[PDat] : \"2019/05/31\"[PDat] )__  \n",
    "Do that search here: https://www.ncbi.nlm.nih.gov/pubmed/\n",
    "but change the name to your name and initials, change the dates for the last 4 years,  \n",
    "and put a word in the affilation to rule out other people with the same name (in this case Susan J Brown is at Kansas State University)  \n",
    "\n",
    "2. Check the results from the search, - make sure it has everything you want in the results, if not _play with it a bit!_  \n",
    "__remember that Pubmed doesn't do everything, and there may be papers you have to add manually__\n",
    "\n",
    "3. Save the results from that search as a list of PMIDs:\n",
    "    - click on \"Send to\", For \"Choose Destination\" pick \"File\", For \"Format\" pick \"PMID List\", and last \"Create File\"\n",
    "    - This will download a text file to your computer.  \n",
    "  \n",
    "  \n",
    "4. __Edit the pmid_list_text_file location in the cell below.__  \n",
    "\n",
    "5. Run all of the cells 1 by 1, note you may need to install biopython, pandas and a bunch of other stuff.  \n",
    "The output is a .xlsx file called \"Paste_me_into_NSF_coa_template_table_4.xlsx\" created in the working directory.\n",
    "From this file you will have to manaually increase the table 4 size in the NSF excel tenplate, and paste in your co-authors and affiliations  \n",
    "If you have more than ~20 co-authors in the last 4 years this will save you some time\n",
    "\n",
    "6. __GOOD LUCK!__"
   ]
  },
  {
   "cell_type": "code",
   "execution_count": 1,
   "metadata": {},
   "outputs": [],
   "source": [
    "# PLEASE EDIT THIS PATH TO POINT TO THE PMID LIST \n",
    "pmid_list_text_file = \"pubmed_result-5.txt\""
   ]
  },
  {
   "cell_type": "code",
   "execution_count": 9,
   "metadata": {},
   "outputs": [],
   "source": [
    "#install biopython with conda? - YES - conda install biopython\n",
    "from Bio import Entrez \n",
    "import numpy as np\n",
    "import pandas as pd\n",
    "import matplotlib.pyplot as plt\n",
    "%matplotlib inline"
   ]
  },
  {
   "cell_type": "code",
   "execution_count": 10,
   "metadata": {},
   "outputs": [],
   "source": [
    " # this code from https://marcobonzanini.com/2015/01/12/searching-pubmed-with-python/ and modified by me\n",
    "def fetch_ref(reference_id): # this needs some error checking\n",
    "    Entrez.email = 'srrichards@ucdavis.edu'\n",
    "    handle = Entrez.efetch(db='pubmed', retmode='xml', id=reference_id)\n",
    "    results = Entrez.read(handle)\n",
    "    return results"
   ]
  },
  {
   "cell_type": "code",
   "execution_count": 11,
   "metadata": {},
   "outputs": [
    {
     "name": "stdout",
     "output_type": "stream",
     "text": [
      "Richards, Stephen, Human Genome Sequencing Center, Baylor College of Medicine, Houston, TX 77030, United States.\n",
      "\n",
      "Childers, Anna, USDA-ARS, Bee Research Laboratory, Beltsville, MD, United States.\n",
      "\n",
      "Childers, Christopher, USDA-ARS, National Agricultural Library, Knowledge Services Division, United States.\n",
      "\n"
     ]
    }
   ],
   "source": [
    "# and test this with a PMID number\n",
    "#my_results = fetch(\"29686065\")\n",
    "my_results = fetch_ref(\"29602370\")\n",
    "#print(my_results['PubmedArticle'][0]['MedlineCitation']['Article']['Abstract']['AbstractText'][0])\n",
    "for author in my_results['PubmedArticle'][0]['MedlineCitation']['Article']['AuthorList']:\n",
    "    #print(author.keys()) # This was a real pain in the ass\n",
    "    #print(author['LastName'], author['ForeName'])\n",
    "    \n",
    "    affil_string = None\n",
    "    for affils in author['AffiliationInfo']:\n",
    "        if affil_string:\n",
    "            affil_string = affil_string + \"; \" + affils['Affiliation']\n",
    "        else:\n",
    "            affil_string = affils['Affiliation']\n",
    "        #print(affils['Affiliation'])\n",
    "    print(author['LastName'], \", \", author['ForeName'], \", \", affil_string, \"\\n\", sep=\"\")"
   ]
  },
  {
   "cell_type": "code",
   "execution_count": 12,
   "metadata": {},
   "outputs": [
    {
     "name": "stdout",
     "output_type": "stream",
     "text": [
      "[{'co_author': 'Richards, Stephen', 'affil': 'Human Genome Sequencing Center, Baylor College of Medicine, Houston, TX 77030, United States.'}, {'co_author': 'Childers, Anna', 'affil': 'USDA-ARS, Bee Research Laboratory, Beltsville, MD, United States.'}, {'co_author': 'Childers, Christopher', 'affil': 'USDA-ARS, National Agricultural Library, Knowledge Services Division, United States.'}]\n"
     ]
    }
   ],
   "source": [
    "### Making this into a function that takes a PMID number and returns a list of Name (last, first), and affliation (not split into departmewnt.)\n",
    "### Note this could get the date and check that it was published in the last 4 years\n",
    "\n",
    "def get_coauthors_and_affils(pmid):\n",
    "    '''\n",
    "    This function takes a pmid for a paper, and returns a list of dictionaries for each co-author with the co-authors name and affiliation\n",
    "    for example it returns a list of \n",
    "    {'co_author':'Richards, Stephen', 'affil':'Human Genome Sequencing Center, Baylor College of Medicine, Houston, TX 77030, United States.'} things.\n",
    "    \n",
    "    It calls the function fetch_ref above - all this bit does is parse the returned reference from entrez\n",
    "    '''\n",
    "    my_results = fetch_ref(pmid)\n",
    "    author_list = []\n",
    "    for author in my_results['PubmedArticle'][0]['MedlineCitation']['Article']['AuthorList']:\n",
    "        #print(author.keys()) # This was a real pain in the ass\n",
    "        #print(author['LastName'], author['ForeName'])\n",
    "        affil_string = None\n",
    "        for affils in author['AffiliationInfo']:\n",
    "            if affil_string:\n",
    "                affil_string = affil_string + \"; \" + affils['Affiliation']\n",
    "            else:\n",
    "                affil_string = affils['Affiliation']\n",
    "            #print(affils['Affiliation'])\n",
    "        author_string = author['LastName'] + \", \" + author['ForeName']\n",
    "        #print(author_string, \", \", affil_string, \"\\n\", sep=\"\")\n",
    "        # OR RETURN A Pandas Df, and print that to a fresh .xlsx file\n",
    "        author_list.append({\"co_author\":author_string, \"affil\":affil_string})\n",
    "    return(author_list)\n",
    "        \n",
    "co_author_and_affils_list = get_coauthors_and_affils(\"29602370\")\n",
    "print(co_author_and_affils_list)"
   ]
  },
  {
   "cell_type": "code",
   "execution_count": 13,
   "metadata": {},
   "outputs": [
    {
     "name": "stdout",
     "output_type": "stream",
     "text": [
      "number of coauthors semi deduplicated =  2 \n",
      "\n"
     ]
    },
    {
     "data": {
      "text/html": [
       "<div>\n",
       "<style scoped>\n",
       "    .dataframe tbody tr th:only-of-type {\n",
       "        vertical-align: middle;\n",
       "    }\n",
       "\n",
       "    .dataframe tbody tr th {\n",
       "        vertical-align: top;\n",
       "    }\n",
       "\n",
       "    .dataframe thead th {\n",
       "        text-align: right;\n",
       "    }\n",
       "</style>\n",
       "<table border=\"1\" class=\"dataframe\">\n",
       "  <thead>\n",
       "    <tr style=\"text-align: right;\">\n",
       "      <th></th>\n",
       "      <th>tag</th>\n",
       "      <th>co_author</th>\n",
       "      <th>affil</th>\n",
       "    </tr>\n",
       "  </thead>\n",
       "  <tbody>\n",
       "    <tr>\n",
       "      <th>1</th>\n",
       "      <td>A:</td>\n",
       "      <td>Richards, Stephen</td>\n",
       "      <td>Human Genome Sequencing Center, Department of ...</td>\n",
       "    </tr>\n",
       "    <tr>\n",
       "      <th>0</th>\n",
       "      <td>A:</td>\n",
       "      <td>Wiegmann, Brian M</td>\n",
       "      <td>Department of Entomology &amp; Plant Pathology, No...</td>\n",
       "    </tr>\n",
       "  </tbody>\n",
       "</table>\n",
       "</div>"
      ],
      "text/plain": [
       "  tag          co_author                                              affil\n",
       "1  A:  Richards, Stephen  Human Genome Sequencing Center, Department of ...\n",
       "0  A:  Wiegmann, Brian M  Department of Entomology & Plant Pathology, No..."
      ]
     },
     "execution_count": 13,
     "metadata": {},
     "output_type": "execute_result"
    }
   ],
   "source": [
    "# send a list of PMIDs (called accession numbers in EndNote) to get_coauthors_and_affils to see how it goes:\n",
    "# also note - if I was a cool person I would get this list from NCBI biography, or Google Scholar\n",
    "\n",
    "def pmid_list_to_co_authors_and_affils(pmid_list):\n",
    "    \n",
    "    Seen_co_author_before = [] # because the cool people will check for duplicates and order alphabeticaly - NOTE NOT PERFECT ON DUPLICATES BUT A GOOD START\n",
    "    co_authors_list_to_sort_and_print = []\n",
    "\n",
    "    all_co_authors = []\n",
    "    for pmid in pmid_list:\n",
    "        all_co_authors.append(get_coauthors_and_affils(pmid))\n",
    "    \n",
    "    for co_author in all_co_authors:\n",
    "        for items in co_author:\n",
    "            if items['co_author'] in Seen_co_author_before:\n",
    "                #print(\"skip a repeat name\")\n",
    "                pass\n",
    "            else:\n",
    "                #print(items['co_author'], items['affil'], \"\\n\")\n",
    "                co_authors_list_to_sort_and_print.append({'co_author':items['co_author'], 'affil':items['affil']})\n",
    "                Seen_co_author_before.append(items['co_author'])\n",
    "  \n",
    "    # print out a sorted co_author list - THIS NEEDS TO BE PRINTED OUT TO EXCEL FOR THE FORM\n",
    "    number_of_co_authors = len(co_authors_list_to_sort_and_print)\n",
    "    print(\"number of coauthors semi deduplicated = \", number_of_co_authors, \"\\n\")\n",
    "\n",
    "    from operator import itemgetter \n",
    "    df = pd.DataFrame(co_authors_list_to_sort_and_print)\n",
    "    df = df.sort_values(by=['co_author'])\n",
    "    df['tag'] = 'A:'\n",
    "    df = df[['tag','co_author', 'affil']]\n",
    " \n",
    "    return(df)\n",
    "    \n",
    "## NOTE I COULD GO A BIT FUTHER AND ASK IF NAMES NEXT TO EACH OTHER IN THE SORTED LIST ARE VERY SIMILAR ###\n",
    "# test lists\n",
    "PMID_list_Richards_2018 =[30626321, 29602357, 29386578, 29602370, 29689052, 29634279, 30935422, 29776407, 29686065, 29403074, 29998472, 30463532]\n",
    "PMID_list_Richards_2015_2019 = [30626321, 29602357, 29386578, 29602370, 29689052, 29634279, 30935422, 29776407, 29686065, 29403074, 29998472, 30463532, 28017728, 28756775, 29220441, 28756777, 28209133, 29055159, 28460028, 28942770, 26439791, 27436555, 27659211, 27189996, 27832824, 27194801, 27617305, 27522922, 26951779, 27401754, 26836814, 26528622, 26944522, 25660540, 26580012, 25908251, 26085980, 26003218, 26051890, 26108605]\n",
    "PMID_list_Sue_Brown_2015_2019 = [30943207,30820572, 30630105, 30576522, 30414108, 29959091, 29220441, 29145861, 28973882, 28791475, 27522922, 26454014, 26416786]\n",
    "PMID_list_small_test = [29602357]\n",
    "\n",
    "# excel file\n",
    "excel_file = \"/Users/stephenr/Programing/NSF_COA_Form_files/coa_template.xlsx\"\n",
    "# test the funciton:\n",
    "\n",
    "df = pmid_list_to_co_authors_and_affils(PMID_list_small_test)\n",
    "df"
   ]
  },
  {
   "cell_type": "markdown",
   "metadata": {},
   "source": [
    "### After alot of screwing around, I have given up on inserting rows into the NSF table, and instead will just create a new .xlsx file using Pandas \n",
    "### For the user to paste into the NSF coa template"
   ]
  },
  {
   "cell_type": "code",
   "execution_count": 15,
   "metadata": {},
   "outputs": [
    {
     "name": "stdout",
     "output_type": "stream",
     "text": [
      "number of coauthors semi deduplicated =  89 \n",
      "\n"
     ]
    },
    {
     "data": {
      "text/html": [
       "<div>\n",
       "<style scoped>\n",
       "    .dataframe tbody tr th:only-of-type {\n",
       "        vertical-align: middle;\n",
       "    }\n",
       "\n",
       "    .dataframe tbody tr th {\n",
       "        vertical-align: top;\n",
       "    }\n",
       "\n",
       "    .dataframe thead th {\n",
       "        text-align: right;\n",
       "    }\n",
       "</style>\n",
       "<table border=\"1\" class=\"dataframe\">\n",
       "  <thead>\n",
       "    <tr style=\"text-align: right;\">\n",
       "      <th></th>\n",
       "      <th>tag</th>\n",
       "      <th>co_author</th>\n",
       "      <th>affil</th>\n",
       "    </tr>\n",
       "  </thead>\n",
       "  <tbody>\n",
       "    <tr>\n",
       "      <th>2</th>\n",
       "      <td>A:</td>\n",
       "      <td>Alkan, Zeynep</td>\n",
       "      <td>USDA ARS Western Human Nutrition Research Cent...</td>\n",
       "    </tr>\n",
       "    <tr>\n",
       "      <th>1</th>\n",
       "      <td>A:</td>\n",
       "      <td>Ardeshir, Amir</td>\n",
       "      <td>California National Primate Research Center, U...</td>\n",
       "    </tr>\n",
       "    <tr>\n",
       "      <th>51</th>\n",
       "      <td>A:</td>\n",
       "      <td>Arikit, Siwaret</td>\n",
       "      <td>Delaware Biotechnology Institute, University o...</td>\n",
       "    </tr>\n",
       "    <tr>\n",
       "      <th>85</th>\n",
       "      <td>A:</td>\n",
       "      <td>Carter, Amanda</td>\n",
       "      <td>Department of Molecular and Cellular Biology, ...</td>\n",
       "    </tr>\n",
       "    <tr>\n",
       "      <th>10</th>\n",
       "      <td>A:</td>\n",
       "      <td>Cheng, Hans</td>\n",
       "      <td>USDA-ARS, Avian Disease and Oncology Laborator...</td>\n",
       "    </tr>\n",
       "  </tbody>\n",
       "</table>\n",
       "</div>"
      ],
      "text/plain": [
       "   tag        co_author                                              affil\n",
       "2   A:    Alkan, Zeynep  USDA ARS Western Human Nutrition Research Cent...\n",
       "1   A:   Ardeshir, Amir  California National Primate Research Center, U...\n",
       "51  A:  Arikit, Siwaret  Delaware Biotechnology Institute, University o...\n",
       "85  A:   Carter, Amanda  Department of Molecular and Cellular Biology, ...\n",
       "10  A:      Cheng, Hans  USDA-ARS, Avian Disease and Oncology Laborator..."
      ]
     },
     "execution_count": 15,
     "metadata": {},
     "output_type": "execute_result"
    }
   ],
   "source": [
    "# this cell takes a xml file and puts the data into the right Excel file place.\n",
    "#pmid_list_text_file = \"/Users/stephenr/Programing/NSF_COA_Form_files/SueBrown_pmid_list_pubmed_result-4.txt\"\n",
    "# pubmed_xml_file = \"/Users/stephenr/Programing/NSF_COA_Form_files/pubmed_result.xml\" # just goig with what works for now.\n",
    "fh = open(pmid_list_text_file, mode='r')\n",
    "pmid_list = []  # have to screw around to get the text file with line returns into a nice clean list for the function\n",
    "for pmid in fh.readlines():\n",
    "    pmid = pmid.rstrip()\n",
    "    #print(pmid, sep=\"\")\n",
    "    pmid_list.append(pmid)\n",
    "#pmid_list\n",
    "df = pmid_list_to_co_authors_and_affils(pmid_list)\n",
    "df.to_excel('Paste_me_into_NSF_coa_template_table_4.xlsx')\n",
    "df.head()"
   ]
  },
  {
   "cell_type": "code",
   "execution_count": null,
   "metadata": {},
   "outputs": [],
   "source": []
  },
  {
   "cell_type": "code",
   "execution_count": null,
   "metadata": {},
   "outputs": [],
   "source": []
  },
  {
   "cell_type": "code",
   "execution_count": null,
   "metadata": {},
   "outputs": [],
   "source": []
  }
 ],
 "metadata": {
  "kernelspec": {
   "display_name": "Python 3",
   "language": "python",
   "name": "python3"
  },
  "language_info": {
   "codemirror_mode": {
    "name": "ipython",
    "version": 3
   },
   "file_extension": ".py",
   "mimetype": "text/x-python",
   "name": "python",
   "nbconvert_exporter": "python",
   "pygments_lexer": "ipython3",
   "version": "3.6.7"
  }
 },
 "nbformat": 4,
 "nbformat_minor": 4
}
