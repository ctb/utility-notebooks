{
 "cells": [
  {
   "cell_type": "markdown",
   "metadata": {},
   "source": [
    "## Reformat e-mail addresses from a spreadsheet\n",
    "\n",
    "### for fun and profit\n",
    "\n",
    "Paste in tab-delimited e-mail addresses below, hit 'run'."
   ]
  },
  {
   "cell_type": "code",
   "execution_count": 14,
   "metadata": {},
   "outputs": [],
   "source": [
    "tablist = \"\"\"\n",
    "Titus Brown\ttitus@idyll.org\n",
    "C. Titus Brown\tctbrown@ucdavis.edu\n",
    "\"\"\""
   ]
  },
  {
   "cell_type": "code",
   "execution_count": 15,
   "metadata": {},
   "outputs": [
    {
     "name": "stdout",
     "output_type": "stream",
     "text": [
      "Titus Brown <titus@idyll.org>\n",
      "C. Titus Brown <ctbrown@ucdavis.edu>\n"
     ]
    }
   ],
   "source": [
    "for line in tablist.splitlines():\n",
    "    line = line.strip()\n",
    "    if line:\n",
    "        name, email = line.strip().split('\\t')\n",
    "        print('{} <{}>'.format(name, email))"
   ]
  }
 ],
 "metadata": {
  "kernelspec": {
   "display_name": "Python 3",
   "language": "python",
   "name": "python3"
  },
  "language_info": {
   "codemirror_mode": {
    "name": "ipython",
    "version": 3
   },
   "file_extension": ".py",
   "mimetype": "text/x-python",
   "name": "python",
   "nbconvert_exporter": "python",
   "pygments_lexer": "ipython3",
   "version": "3.6.3"
  }
 },
 "nbformat": 4,
 "nbformat_minor": 2
}
